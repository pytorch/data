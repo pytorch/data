{
 "cells": [
  {
   "cell_type": "code",
   "execution_count": 1,
   "id": "6f7916f1-0998-415a-b1c3-d2a4a18fcc59",
   "metadata": {},
   "outputs": [],
   "source": [
    "from datasets import load_dataset\n",
    "\n",
    "import torch\n",
    "import torch.nn as nn\n",
    "import torch.nn.functional as F\n",
    "from torch.utils.data import default_collate # Not used here as we use a mapper, but can be used to collate elements in a batch\n",
    "\n",
    "from torchdata.nodes.adapters import IterableWrapper\n",
    "from torchdata.nodes.batch import Batcher\n",
    "from torchdata.nodes.map import Mapper\n",
    "\n",
    "import matplotlib.pyplot as plt"
   ]
  },
  {
   "cell_type": "markdown",
   "id": "a8852a7d-4bf5-4c58-8b10-0ba673a8e55e",
   "metadata": {},
   "source": [
    "## Loading the MNIST dataset"
   ]
  },
  {
   "cell_type": "code",
   "execution_count": 2,
   "id": "94b25d2f-c366-4d1d-870c-7c886d663934",
   "metadata": {},
   "outputs": [],
   "source": [
    "dataset = load_dataset(\"ylecun/mnist\") \n",
    "dataset = dataset.with_format(\"torch\")"
   ]
  },
  {
   "cell_type": "markdown",
   "id": "ffaef758-2093-4bfb-a072-97b56de7065c",
   "metadata": {},
   "source": [
    "##### Splitting into train and test"
   ]
  },
  {
   "cell_type": "code",
   "execution_count": 3,
   "id": "121bc819-3010-4fdf-8dca-168bcc3f1041",
   "metadata": {},
   "outputs": [],
   "source": [
    "train_dataset = dataset[\"train\"].shuffle()\n",
    "test_dataset = dataset[\"test\"].shuffle()\n",
    "\n",
    "\n",
    "train_node = IterableWrapper(train_dataset)\n",
    "test_node = IterableWrapper(test_dataset)\n",
    "\n"
   ]
  },
  {
   "cell_type": "markdown",
   "id": "3f8c9e8d-b095-4767-a34a-45c807f3b75e",
   "metadata": {},
   "source": [
    "##### Let's display one image"
   ]
  },
  {
   "cell_type": "code",
   "execution_count": 4,
   "id": "5b7b0e89-b9e0-480c-890d-6344239d2f62",
   "metadata": {},
   "outputs": [
    {
     "name": "stdout",
     "output_type": "stream",
     "text": [
      "Image size: torch.Size([1, 28, 28])\n",
      "Label: 3, label size: torch.Size([])\n"
     ]
    },
    {
     "data": {
      "image/png": "[encoded data removed]",
      "text/plain": [
       "<Figure size 640x480 with 1 Axes>"
      ]
     },
     "metadata": {},
     "output_type": "display_data"
    }
   ],
   "source": [
    "\n",
    "torch.manual_seed(42)\n",
    "random_idx = torch.randint(0, len(train_dataset), size=[1]).item()\n",
    "img, label = train_dataset[\"image\"][random_idx], train_dataset[\"label\"][random_idx]\n",
    "plt.imshow(img.squeeze(), cmap=\"gray\")\n",
    "plt.title(label)\n",
    "plt.axis(\"Off\");\n",
    "print(f\"Image size: {img.shape}\")\n",
    "print(f\"Label: {label}, label size: {label.shape}\")"
   ]
  },
  {
   "cell_type": "code",
   "execution_count": 5,
   "id": "fabc780e-5b09-4b55-aae5-3df1c6346c36",
   "metadata": {},
   "outputs": [
    {
     "name": "stdout",
     "output_type": "stream",
     "text": [
      "length of Train Datasets:  60000\n",
      "length of Validation Datasets:  10000\n"
     ]
    }
   ],
   "source": [
    "print(\"length of Train Datasets: \", len(train_dataset))\n",
    "print(\"length of Validation Datasets: \", len(test_dataset))"
   ]
  },
  {
   "cell_type": "code",
   "execution_count": 7,
   "id": "70b71095-58dc-4c26-9b35-c77a904ee54a",
   "metadata": {},
   "outputs": [],
   "source": [
    "\n",
    "torch.manual_seed(0)\n",
    "num_classes = len(torch.unique(train_dataset[\"label\"]))\n",
    "\n",
    "# Hyperparameters\n",
    "batch_size = 2\n",
    "num_epochs = 10\n",
    "learning_rate = 0.001\n",
    "\n"
   ]
  },
  {
   "cell_type": "markdown",
   "id": "26c803a7-a007-44aa-99c3-54d2102c85b5",
   "metadata": {},
   "source": [
    "##### Now we will create a Batcher object, that will pass us the batches while training and testing"
   ]
  },
  {
   "cell_type": "code",
   "execution_count": 8,
   "id": "ad518309-bf46-4384-8d14-03f79ed3059e",
   "metadata": {},
   "outputs": [],
   "source": [
    "train_batcher = Batcher(train_node, batch_size, drop_last=True)\n",
    "test_batcher = Batcher(test_node, batch_size, drop_last=True)\n"
   ]
  },
  {
   "cell_type": "code",
   "execution_count": 10,
   "id": "4dc94d8c-c67b-4c22-bcb9-8a6f882efbea",
   "metadata": {},
   "outputs": [
    {
     "name": "stdout",
     "output_type": "stream",
     "text": [
      "[{'image': tensor([[[  0,   0,   0,   0,   0,   0,   0,   0,   0,   0,   0,   0,   0,   0,\n",
      "            0,   0,   0,   0,   0,   0,   0,   0,   0,   0,   0,   0,   0,   0],\n",
      "         [  0,   0,   0,   0,   0,   0,   0,   0,   0,   0,   0,   0,   0,   0,\n",
      "            0,   0,   0,   0,   0,   0,   0,   0,   0,   0,   0,   0,   0,   0],\n",
      "         [  0,   0,   0,   0,   0,   0,   0,   0,   0,   0,   0,   0,   0,   0,\n",
      "            0,   0,   0,   0,   0,   0,   0,   0,   0,   0,   0,   0,   0,   0],\n",
      "         [  0,   0,   0,   0,   0,   0,   0,   0,   0,   0,   0,   0,   0,   0,\n",
      "            0,   0,   0,   0,   0,   0,   0,   0,   0,   0,   0,   0,   0,   0],\n",
      "         [  0,   0,   0,   0,   0,   0,   0,   0,   0,   0,   0,   0,   0,   0,\n",
      "            0,   0,   0,   0,   0,   0,   0,   0,   0,   0,   0,   0,   0,   0],\n",
      "         [  0,   0,   0,   0,   0,   0,   0,   0,   0,   0,   0,   0,   0,   0,\n",
      "            0,  20,  13,   0,  16, 193, 147,  19,   0,   0,   0,   0,   0,   0],\n",
      "         [  0,   0,   0,   0,   0,   0,   0,   0,   0,   0,   0,   0,   0,  17,\n",
      "          116, 221,  87,   0,  28, 254, 254, 114,   0,   0,   0,   0,   0,   0],\n",
      "         [  0,   0,   0,   0,   0,   0,   0,   0,   0,   0,   0,   0,  10, 144,\n",
      "          254, 242,  48,   0,  30, 254, 254,  65,   0,   0,   0,   0,   0,   0],\n",
      "         [  0,   0,   0,   0,   0,   0,   0,   0,   0,   0,   0,   0, 143, 254,\n",
      "          239,  57,   0,   0, 136, 254, 254,   5,   0,   0,   0,   0,   0,   0],\n",
      "         [  0,   0,   0,   0,   0,   0,   0,   0,   0,   0,   0, 101, 249, 237,\n",
      "           64,   0,   0,   0, 136, 254, 254,   5,   0,   0,   0,   0,   0,   0],\n",
      "         [  0,   0,   0,   0,   0,   0,   0,   0,   0,   1,  32, 223, 254, 145,\n",
      "            0,   0,   0,   0, 234, 254, 157,   1,   0,   0,   0,   0,   0,   0],\n",
      "         [  0,   0,   0,   0,   0,   0,   0,   0,   0,  11, 254, 254, 171,   0,\n",
      "            0,   0,   0,  61, 251, 254,  43,   0,   0,   0,   0,   0,   0,   0],\n",
      "         [  0,   0,   0,   0,   0,   0,   0,   0,  63, 198, 254, 225,  39,   0,\n",
      "            0,   0,   0,  99, 254, 254,  43,   0,   0,   0,   0,   0,   0,   0],\n",
      "         [  0,   0,   0,   0,   0,   0,   0,  75, 213, 254, 251,  64,   0,   0,\n",
      "            0,   0,   0, 151, 254, 187,   4,   0,   0,   0,   0,   0,   0,   0],\n",
      "         [  0,   0,   0,   0,   0,   0,  27, 218, 254, 248,  74,   0,   0,   0,\n",
      "            0,   0,   0, 207, 249,  64,   0,   0,   0,   0,   0,   0,   0,   0],\n",
      "         [  0,   0,   0,   0,   0,   0, 200, 254, 254, 197,   0,   0,   0,   0,\n",
      "            0,   0,  48, 244, 227,  24,  16,   0,   0,   0,   0,   0,   0,   0],\n",
      "         [  0,   0,   0,   0,   0,   0, 223, 254, 254, 254, 239, 239, 232, 130,\n",
      "          130, 130, 159, 254, 253, 243,  90,   0,   0,   0,   0,   0,   0,   0],\n",
      "         [  0,   0,   0,   0,   0,   0, 170, 195, 220, 248, 254, 254, 254, 254,\n",
      "          254, 254, 254, 254, 248, 121,  15,   0,   0,   0,   0,   0,   0,   0],\n",
      "         [  0,   0,   0,   0,   0,   0,   0,   0,  21,  44,  48,  48, 148, 156,\n",
      "          156, 165, 254, 254,  51,   0,   0,   0,   0,   0,   0,   0,   0,   0],\n",
      "         [  0,   0,   0,   0,   0,   0,   0,   0,   0,   0,   0,   0,   0,   0,\n",
      "            0,  22, 254, 160,   1,   0,   0,   0,   0,   0,   0,   0,   0,   0],\n",
      "         [  0,   0,   0,   0,   0,   0,   0,   0,   0,   0,   0,   0,   0,   0,\n",
      "            0,  22, 255, 128,   0,   0,   0,   0,   0,   0,   0,   0,   0,   0],\n",
      "         [  0,   0,   0,   0,   0,   0,   0,   0,   0,   0,   0,   0,   0,   0,\n",
      "            0, 113, 230,  29,   0,   0,   0,   0,   0,   0,   0,   0,   0,   0],\n",
      "         [  0,   0,   0,   0,   0,   0,   0,   0,   0,   0,   0,   0,   0,   0,\n",
      "            0, 117, 253,  48,   0,   0,   0,   0,   0,   0,   0,   0,   0,   0],\n",
      "         [  0,   0,   0,   0,   0,   0,   0,   0,   0,   0,   0,   0,   0,   0,\n",
      "            0,  22, 254,  48,   0,   0,   0,   0,   0,   0,   0,   0,   0,   0],\n",
      "         [  0,   0,   0,   0,   0,   0,   0,   0,   0,   0,   0,   0,   0,   0,\n",
      "            0,  22, 182,  28,   0,   0,   0,   0,   0,   0,   0,   0,   0,   0],\n",
      "         [  0,   0,   0,   0,   0,   0,   0,   0,   0,   0,   0,   0,   0,   0,\n",
      "            0,   0,   0,   0,   0,   0,   0,   0,   0,   0,   0,   0,   0,   0],\n",
      "         [  0,   0,   0,   0,   0,   0,   0,   0,   0,   0,   0,   0,   0,   0,\n",
      "            0,   0,   0,   0,   0,   0,   0,   0,   0,   0,   0,   0,   0,   0],\n",
      "         [  0,   0,   0,   0,   0,   0,   0,   0,   0,   0,   0,   0,   0,   0,\n",
      "            0,   0,   0,   0,   0,   0,   0,   0,   0,   0,   0,   0,   0,   0]]],\n",
      "       dtype=torch.uint8), 'label': tensor(4)}, {'image': tensor([[[  0,   0,   0,   0,   0,   0,   0,   0,   0,   0,   0,   0,   0,   0,\n",
      "            0,   0,   0,   0,   0,   0,   0,   0,   0,   0,   0,   0,   0,   0],\n",
      "         [  0,   0,   0,   0,   0,   0,   0,   0,   0,   0,   0,   0,   0,   0,\n",
      "            0,   0,   0,   0,   0,   0,   0,   0,   0,   0,   0,   0,   0,   0],\n",
      "         [  0,   0,   0,   0,   0,   0,   0,   0,   0,   0,   0,   0,   0,   0,\n",
      "            0,   0,   0,   0,   0,   0,   0,   0,   0,   0,   0,   0,   0,   0],\n",
      "         [  0,   0,   0,   0,   0,   0,   0,   0,   0,   0,   0,   0,   0,   0,\n",
      "            0,   0,   0,   0,   0,   0,   0,   0,   0,   0,   0,   0,   0,   0],\n",
      "         [  0,   0,   0,   0,   0,   0,   0,   0,   0,   0,   0,   0,   0,   0,\n",
      "            0,  67, 118, 248, 255, 146,  35,   0,   0,   0,   0,   0,   0,   0],\n",
      "         [  0,   0,   0,   0,   0,   0,   0,   0,   0,   0,   0,  87, 133, 234,\n",
      "          219, 112, 253, 253, 253, 253, 224,  52,   0,   0,   0,   0,   0,   0],\n",
      "         [  0,   0,   0,   0,   0,   0,   0,   0,   0,   0,  33, 235, 253, 253,\n",
      "          253, 210, 177, 177, 202, 253, 234,  52,   0,   0,   0,   0,   0,   0],\n",
      "         [  0,   0,   0,   0,   0,   0,   0,   0,   0,   0,  27, 158, 253, 213,\n",
      "          109,  27,   0,   0, 113, 253, 234,  52,   0,   0,   0,   0,   0,   0],\n",
      "         [  0,   0,   0,   0,   0,   0,   0,   0,   0,   0,   0,  73,  82,  22,\n",
      "            0,   0,   0,  33, 225, 253, 234,  52,   0,   0,   0,   0,   0,   0],\n",
      "         [  0,   0,   0,   0,   0,   0,   0,   0,   0,   0,   0,   0,   0,   0,\n",
      "            0,   1,  14, 241, 253, 250, 200,   0,   0,   0,   0,   0,   0,   0],\n",
      "         [  0,   0,   0,   0,   0,   0,   0,   0,   0,   0,   0,   0,   0,   0,\n",
      "            0,   4, 186, 253, 253, 191,   0,   0,   0,   0,   0,   0,   0,   0],\n",
      "         [  0,   0,   0,   0,   0,   0,   0,   0,   0,   0,   0,   0,   0,   0,\n",
      "           12, 188, 250, 253, 172,   5,   0,   0,   0,   0,   0,   0,   0,   0],\n",
      "         [  0,   0,   0,   0,   0,   0,   0,   0,   0,   0,   0,   0,   0, 166,\n",
      "          230, 253, 253, 197,  79,   0,   0,   0,   0,   0,   0,   0,   0,   0],\n",
      "         [  0,   0,   0,   0,   0,   0,   0,   0,   0,   0,   0,   0,  38, 222,\n",
      "          253, 253, 253, 253, 193,  15,   0,   0,   0,   0,   0,   0,   0,   0],\n",
      "         [  0,   0,   0,   0,   0,   0,   0,   0,   0,   0,   0,   0,   0, 150,\n",
      "          205, 130, 205, 251, 208,  51,   0,   0,   0,   0,   0,   0,   0,   0],\n",
      "         [  0,   0,   0,   0,   0,   0,   0,   0,   0,   0,   0,   0,   0,   0,\n",
      "            0,   0,  68, 247, 253, 117,   0,   0,   0,   0,   0,   0,   0,   0],\n",
      "         [  0,   0,   0,   0,   0,   0,   0,   0,   0,   0,   0,   0,   0,   0,\n",
      "            0,   4, 141, 248, 253, 117,   0,   0,   0,   0,   0,   0,   0,   0],\n",
      "         [  0,   0,   0,   0,   0,   0,   0,   0,   0,   0,   0,   0,   0,   0,\n",
      "            0,  71, 187, 253, 213,  98,   0,   0,   0,   0,   0,   0,   0,   0],\n",
      "         [  0,   0,   0,   0,  40, 219,  58,   0,   0,   0,   0,   0,   0,   0,\n",
      "           68, 189, 253, 211, 102,   0,   0,   0,   0,   0,   0,   0,   0,   0],\n",
      "         [  0,   0,   0,   0,  97, 253, 198,  27,   0,   0,   0,   0,   0,  16,\n",
      "          120, 253, 253, 206,  18,   0,   0,   0,   0,   0,   0,   0,   0,   0],\n",
      "         [  0,   0,   0,   0,  45, 231, 253, 217, 118,  31,   0,   0,  51,  99,\n",
      "          253, 253, 223, 114,   0,   0,   0,   0,   0,   0,   0,   0,   0,   0],\n",
      "         [  0,   0,   0,   0,  29, 128, 253, 253, 253, 215, 179, 179, 239, 253,\n",
      "          253, 230, 109,   0,   0,   0,   0,   0,   0,   0,   0,   0,   0,   0],\n",
      "         [  0,   0,   0,   0,   0,  29, 129, 253, 253, 253, 253, 253, 253, 249,\n",
      "          217,  41,   0,   0,   0,   0,   0,   0,   0,   0,   0,   0,   0,   0],\n",
      "         [  0,   0,   0,   0,   0,   0,  26, 116, 198, 182, 190, 239, 253, 130,\n",
      "            0,   0,   0,   0,   0,   0,   0,   0,   0,   0,   0,   0,   0,   0],\n",
      "         [  0,   0,   0,   0,   0,   0,   0,   0,   0,   0,   0,   0,   0,   0,\n",
      "            0,   0,   0,   0,   0,   0,   0,   0,   0,   0,   0,   0,   0,   0],\n",
      "         [  0,   0,   0,   0,   0,   0,   0,   0,   0,   0,   0,   0,   0,   0,\n",
      "            0,   0,   0,   0,   0,   0,   0,   0,   0,   0,   0,   0,   0,   0],\n",
      "         [  0,   0,   0,   0,   0,   0,   0,   0,   0,   0,   0,   0,   0,   0,\n",
      "            0,   0,   0,   0,   0,   0,   0,   0,   0,   0,   0,   0,   0,   0],\n",
      "         [  0,   0,   0,   0,   0,   0,   0,   0,   0,   0,   0,   0,   0,   0,\n",
      "            0,   0,   0,   0,   0,   0,   0,   0,   0,   0,   0,   0,   0,   0]]],\n",
      "       dtype=torch.uint8), 'label': tensor(3)}]\n",
      "{'image': tensor([[[[0, 0, 0,  ..., 0, 0, 0],\n",
      "          [0, 0, 0,  ..., 0, 0, 0],\n",
      "          [0, 0, 0,  ..., 0, 0, 0],\n",
      "          ...,\n",
      "          [0, 0, 0,  ..., 0, 0, 0],\n",
      "          [0, 0, 0,  ..., 0, 0, 0],\n",
      "          [0, 0, 0,  ..., 0, 0, 0]]],\n",
      "\n",
      "\n",
      "        [[[0, 0, 0,  ..., 0, 0, 0],\n",
      "          [0, 0, 0,  ..., 0, 0, 0],\n",
      "          [0, 0, 0,  ..., 0, 0, 0],\n",
      "          ...,\n",
      "          [0, 0, 0,  ..., 0, 0, 0],\n",
      "          [0, 0, 0,  ..., 0, 0, 0],\n",
      "          [0, 0, 0,  ..., 0, 0, 0]]]], dtype=torch.uint8), 'label': tensor([4, 3])}\n"
     ]
    }
   ],
   "source": [
    "train_batcher.reset()\n",
    "for batch in train_batcher:\n",
    "    print(batch)\n",
    "    print(default_collate(batch))\n",
    "    break"
   ]
  },
  {
   "cell_type": "markdown",
   "id": "21adea68-7740-4849-9771-b57b4e1bf6b3",
   "metadata": {},
   "source": [
    "##### We define a map function to make some changes to the dtype of x, this map fn can be passed into the Mapper"
   ]
  },
  {
   "cell_type": "code",
   "execution_count": 8,
   "id": "5a3afdde-8d8a-4f5a-8278-05db79f039ae",
   "metadata": {},
   "outputs": [],
   "source": [
    "def map_fn(batch):\n",
    "    x = [item[\"image\"].to(torch.float32) for item in batch]  # List of image tensors\n",
    "    y = [item[\"label\"] for item in batch]  # List of label tensors\n",
    "    return torch.stack(x), torch.stack(y)\n",
    "train_mapper = Mapper(train_batcher, map_fn)\n",
    "test_mapper = Mapper(test_batcher, map_fn)"
   ]
  },
  {
   "cell_type": "code",
   "execution_count": null,
   "id": "5489088a-2896-460f-801e-22ff25a95df2",
   "metadata": {},
   "outputs": [],
   "source": []
  },
  {
   "cell_type": "markdown",
   "id": "e6143e41-40ce-4a2f-b9f9-cee3a81150a3",
   "metadata": {},
   "source": [
    "##### Defining a simple CNN\n",
    "###### The NN is just for demonstration and more efficient and accurate archs might exist"
   ]
  },
  {
   "cell_type": "code",
   "execution_count": 9,
   "id": "aae1d02f-8eb5-4c5c-879c-dcd362ad7344",
   "metadata": {},
   "outputs": [],
   "source": [
    "class Net(nn.Module):\n",
    "    def __init__(self):\n",
    "        super(Net, self).__init__()\n",
    "        self.conv_block1 = nn.Sequential(\n",
    "            nn.Conv2d(1, 10, kernel_size=5),\n",
    "            nn.ReLU(),\n",
    "            nn.MaxPool2d(kernel_size=2)\n",
    "        )\n",
    "        self.conv_block2 = nn.Sequential(\n",
    "            nn.Conv2d(10, 20, kernel_size=5),\n",
    "            nn.ReLU(),\n",
    "            nn.MaxPool2d(kernel_size=2)\n",
    "        )\n",
    "        self.fc_block = nn.Sequential(\n",
    "            nn.Flatten(),\n",
    "            nn.Linear(320, 50),\n",
    "            nn.ReLU(),\n",
    "            nn.Dropout(p=0.2),\n",
    "            nn.Linear(50, 10)\n",
    "        )\n",
    "\n",
    "    def forward(self, x):\n",
    "        out = self.conv_block1(x)\n",
    "        out = self.conv_block2(out)\n",
    "        out = out.view(-1, 320)\n",
    "        out = self.fc_block(out)\n",
    "        return out"
   ]
  },
  {
   "cell_type": "code",
   "execution_count": 10,
   "id": "d7a9c561-9f27-4651-8577-005d7ad74725",
   "metadata": {},
   "outputs": [],
   "source": [
    "# Initialize the neural network and loss function\n",
    "model = Net().to(\"cpu\")\n",
    "loss_fn = nn.CrossEntropyLoss()\n",
    "optimizer = torch.optim.Adam(model.parameters(), lr=learning_rate)"
   ]
  },
  {
   "cell_type": "code",
   "execution_count": 11,
   "id": "795a6833-4714-46eb-bb3f-0a6d36ab1c81",
   "metadata": {},
   "outputs": [
    {
     "name": "stdout",
     "output_type": "stream",
     "text": [
      "epoch = 0\n",
      "Epoch [1/10], Step [50], Loss: 0.5780\n",
      "Epoch [1/10], Step [100], Loss: 0.2994\n",
      "Epoch [1/10], Step [150], Loss: 0.4244\n",
      "Epoch [1/10], Step [200], Loss: 0.1718\n",
      "Epoch [1/10], Step [250], Loss: 0.1693\n",
      "Epoch [1/10], Step [300], Loss: 0.1736\n",
      "Epoch [1/10], Step [350], Loss: 0.1018\n",
      "Epoch [1/10], Step [400], Loss: 0.2739\n",
      "Epoch [1/10], Step [450], Loss: 0.1410\n",
      "Test Accuracy: 96.3641826923077 %\n",
      "epoch = 1\n",
      "Epoch [2/10], Step [50], Loss: 0.0711\n",
      "Epoch [2/10], Step [100], Loss: 0.1020\n",
      "Epoch [2/10], Step [150], Loss: 0.2640\n",
      "Epoch [2/10], Step [200], Loss: 0.0221\n",
      "Epoch [2/10], Step [250], Loss: 0.0913\n",
      "Epoch [2/10], Step [300], Loss: 0.0879\n",
      "Epoch [2/10], Step [350], Loss: 0.1413\n",
      "Epoch [2/10], Step [400], Loss: 0.1759\n",
      "Epoch [2/10], Step [450], Loss: 0.1233\n",
      "Test Accuracy: 97.62620192307692 %\n",
      "epoch = 2\n",
      "Epoch [3/10], Step [50], Loss: 0.0518\n",
      "Epoch [3/10], Step [100], Loss: 0.0305\n",
      "Epoch [3/10], Step [150], Loss: 0.1391\n",
      "Epoch [3/10], Step [200], Loss: 0.0550\n",
      "Epoch [3/10], Step [250], Loss: 0.1324\n",
      "Epoch [3/10], Step [300], Loss: 0.1094\n",
      "Epoch [3/10], Step [350], Loss: 0.0404\n",
      "Epoch [3/10], Step [400], Loss: 0.1961\n",
      "Epoch [3/10], Step [450], Loss: 0.1620\n",
      "Test Accuracy: 97.91666666666667 %\n",
      "epoch = 3\n",
      "Epoch [4/10], Step [50], Loss: 0.0588\n",
      "Epoch [4/10], Step [100], Loss: 0.0084\n",
      "Epoch [4/10], Step [150], Loss: 0.0858\n",
      "Epoch [4/10], Step [200], Loss: 0.0290\n",
      "Epoch [4/10], Step [250], Loss: 0.1309\n",
      "Epoch [4/10], Step [300], Loss: 0.0136\n",
      "Epoch [4/10], Step [350], Loss: 0.0339\n",
      "Epoch [4/10], Step [400], Loss: 0.1769\n",
      "Epoch [4/10], Step [450], Loss: 0.0582\n",
      "Test Accuracy: 98.0869391025641 %\n",
      "epoch = 4\n",
      "Epoch [5/10], Step [50], Loss: 0.0246\n",
      "Epoch [5/10], Step [100], Loss: 0.0122\n",
      "Epoch [5/10], Step [150], Loss: 0.1433\n",
      "Epoch [5/10], Step [200], Loss: 0.0169\n",
      "Epoch [5/10], Step [250], Loss: 0.1008\n",
      "Epoch [5/10], Step [300], Loss: 0.0662\n",
      "Epoch [5/10], Step [350], Loss: 0.0638\n",
      "Epoch [5/10], Step [400], Loss: 0.1039\n",
      "Epoch [5/10], Step [450], Loss: 0.0862\n",
      "Test Accuracy: 98.33733974358974 %\n",
      "epoch = 5\n",
      "Epoch [6/10], Step [50], Loss: 0.0293\n",
      "Epoch [6/10], Step [100], Loss: 0.0183\n",
      "Epoch [6/10], Step [150], Loss: 0.0330\n",
      "Epoch [6/10], Step [200], Loss: 0.0321\n",
      "Epoch [6/10], Step [250], Loss: 0.0755\n",
      "Epoch [6/10], Step [300], Loss: 0.0130\n",
      "Epoch [6/10], Step [350], Loss: 0.0436\n",
      "Epoch [6/10], Step [400], Loss: 0.1659\n",
      "Epoch [6/10], Step [450], Loss: 0.0543\n",
      "Test Accuracy: 98.27724358974359 %\n",
      "epoch = 6\n",
      "Epoch [7/10], Step [50], Loss: 0.0105\n",
      "Epoch [7/10], Step [100], Loss: 0.0407\n",
      "Epoch [7/10], Step [150], Loss: 0.0389\n",
      "Epoch [7/10], Step [200], Loss: 0.0434\n",
      "Epoch [7/10], Step [250], Loss: 0.0699\n",
      "Epoch [7/10], Step [300], Loss: 0.0114\n",
      "Epoch [7/10], Step [350], Loss: 0.0533\n",
      "Epoch [7/10], Step [400], Loss: 0.0802\n",
      "Epoch [7/10], Step [450], Loss: 0.0484\n",
      "Test Accuracy: 98.45753205128206 %\n",
      "epoch = 7\n",
      "Epoch [8/10], Step [50], Loss: 0.0080\n",
      "Epoch [8/10], Step [100], Loss: 0.0306\n",
      "Epoch [8/10], Step [150], Loss: 0.0724\n",
      "Epoch [8/10], Step [200], Loss: 0.0055\n",
      "Epoch [8/10], Step [250], Loss: 0.0559\n",
      "Epoch [8/10], Step [300], Loss: 0.0380\n",
      "Epoch [8/10], Step [350], Loss: 0.0350\n",
      "Epoch [8/10], Step [400], Loss: 0.0810\n",
      "Epoch [8/10], Step [450], Loss: 0.0708\n",
      "Test Accuracy: 98.32732371794872 %\n",
      "epoch = 8\n",
      "Epoch [9/10], Step [50], Loss: 0.0442\n",
      "Epoch [9/10], Step [100], Loss: 0.0296\n",
      "Epoch [9/10], Step [150], Loss: 0.0613\n",
      "Epoch [9/10], Step [200], Loss: 0.0176\n",
      "Epoch [9/10], Step [250], Loss: 0.0432\n",
      "Epoch [9/10], Step [300], Loss: 0.0112\n",
      "Epoch [9/10], Step [350], Loss: 0.0318\n",
      "Epoch [9/10], Step [400], Loss: 0.0622\n",
      "Epoch [9/10], Step [450], Loss: 0.0355\n",
      "Test Accuracy: 98.3974358974359 %\n",
      "epoch = 9\n",
      "Epoch [10/10], Step [50], Loss: 0.0129\n",
      "Epoch [10/10], Step [100], Loss: 0.0247\n",
      "Epoch [10/10], Step [150], Loss: 0.0934\n",
      "Epoch [10/10], Step [200], Loss: 0.0167\n",
      "Epoch [10/10], Step [250], Loss: 0.0279\n",
      "Epoch [10/10], Step [300], Loss: 0.0170\n",
      "Epoch [10/10], Step [350], Loss: 0.0217\n",
      "Epoch [10/10], Step [400], Loss: 0.0461\n",
      "Epoch [10/10], Step [450], Loss: 0.0082\n",
      "Test Accuracy: 98.54767628205128 %\n"
     ]
    }
   ],
   "source": [
    "# Train the model\n",
    "loss_list = []\n",
    "accuracy_list = []\n",
    "for epoch in range(num_epochs):\n",
    "    print(f\"epoch = {epoch}\")\n",
    "    train_mapper.reset()\n",
    "    num_loops = 0\n",
    "    total_loss = 0\n",
    "    for images, labels in train_mapper:\n",
    "        outputs = model(images)\n",
    "        loss = loss_fn(outputs, labels)\n",
    "        # Backward and optimize\n",
    "        optimizer.zero_grad()\n",
    "        loss.backward()\n",
    "        optimizer.step()\n",
    "        if (num_loops+1) % 50 == 0:\n",
    "            print(f'Epoch [{epoch+1}/{num_epochs}], Step [{num_loops+1}], Loss: {loss.item():.4f}')\n",
    "        total_loss+=loss.item()\n",
    "        num_loops+=1\n",
    "    total_loss /=num_loops\n",
    "    loss_list.append(total_loss)\n",
    "    \n",
    "    # Test the model\n",
    "    test_mapper.reset()\n",
    "    with torch.no_grad():\n",
    "        n_correct = 0\n",
    "        n_samples = 0\n",
    "        for images, labels in test_mapper:\n",
    "            outputs = model(images)\n",
    "            _, predicted = torch.max(outputs.data, 1)\n",
    "            n_samples += labels.size(0)\n",
    "            n_correct += (predicted == labels).sum().item()\n",
    "            \n",
    "            \n",
    "        acc = 100.0 * n_correct / n_samples\n",
    "        accuracy_list.append(acc)\n",
    "        print(f'Test Accuracy: {acc} %')"
   ]
  },
  {
   "cell_type": "code",
   "execution_count": 12,
   "id": "5c596bb9-19c5-42d1-b5fa-8bebc4b3b452",
   "metadata": {},
   "outputs": [
    {
     "data": {
      "image/png": "[encoded data removed]",
      "text/plain": [
       "<Figure size 640x480 with 1 Axes>"
      ]
     },
     "metadata": {},
     "output_type": "display_data"
    }
   ],
   "source": [
    "\n",
    "torch.manual_seed(42)\n",
    "random_idx = torch.randint(0, len(images), size=[1]).item()\n",
    "img, label , prediction= images[random_idx], labels[random_idx], predicted[random_idx]\n",
    "plt.imshow(img.squeeze(), cmap=\"gray\")\n",
    "plt.title(f\"Label = {label}, Prediction = {prediction}\")\n",
    "plt.axis(\"Off\");"
   ]
  },
  {
   "cell_type": "code",
   "execution_count": 13,
   "id": "b3231144-4de0-47f7-8e80-a4340ae5d030",
   "metadata": {},
   "outputs": [
    {
     "data": {
      "text/plain": [
       "<matplotlib.legend.Legend at 0x142227770>"
      ]
     },
     "execution_count": 13,
     "metadata": {},
     "output_type": "execute_result"
    },
    {
     "data": {
      "image/png": "[encoded data removed]",
      "text/plain": [
       "<Figure size 640x480 with 1 Axes>"
      ]
     },
     "metadata": {},
     "output_type": "display_data"
    }
   ],
   "source": [
    "plt.plot(loss_list, label='Loss')\n",
    "\n",
    "\n",
    "plt.title('Loss Over Epochs')\n",
    "plt.xlabel('Epochs')\n",
    "plt.ylabel('Loss')\n",
    "# Add legend\n",
    "plt.legend()"
   ]
  },
  {
   "cell_type": "code",
   "execution_count": 14,
   "id": "d3db4f2c-d7c0-4058-a750-c9b4e21ce4ad",
   "metadata": {},
   "outputs": [
    {
     "data": {
      "text/plain": [
       "<matplotlib.legend.Legend at 0x1422bb950>"
      ]
     },
     "execution_count": 14,
     "metadata": {},
     "output_type": "execute_result"
    },
    {
     "data": {
      "image/png": "[encoded data removed]",
      "text/plain": [
       "<Figure size 640x480 with 1 Axes>"
      ]
     },
     "metadata": {},
     "output_type": "display_data"
    }
   ],
   "source": [
    "plt.plot(accuracy_list, label='Accuracy')\n",
    "plt.title('Accuracy Over Epochs')\n",
    "plt.xlabel('Epochs')\n",
    "plt.ylabel('Loss')\n",
    "# Add legend\n",
    "plt.legend()"
   ]
  },
  {
   "cell_type": "code",
   "execution_count": null,
   "id": "7eb733a7-c5d2-4134-85e5-4197b214ec75",
   "metadata": {},
   "outputs": [],
   "source": []
  }
 ],
 "metadata": {
  "kernelspec": {
   "display_name": "Python 3 (ipykernel)",
   "language": "python",
   "name": "python3"
  },
  "language_info": {
   "codemirror_mode": {
    "name": "ipython",
    "version": 3
   },
   "file_extension": ".py",
   "mimetype": "text/x-python",
   "name": "python",
   "nbconvert_exporter": "python",
   "pygments_lexer": "ipython3",
   "version": "3.12.6"
  }
 },
 "nbformat": 4,
 "nbformat_minor": 5
}
