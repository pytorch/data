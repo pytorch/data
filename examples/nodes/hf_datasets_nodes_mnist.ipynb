{
 "cells": [
  {
   "cell_type": "code",
   "execution_count": 1,
   "id": "93026478-6dbd-4ac0-8507-360a3a2000c5",
   "metadata": {},
   "outputs": [],
   "source": [
    "from datasets import load_dataset\n",
    "#load the mnist dataset from HuggingFace datasets and convert the format to \"torch\"\n",
    "dataset = load_dataset(\"ylecun/mnist\").with_format(\"torch\")\n",
    "\n",
    "#split the training and testing datasets\n",
    "train_dataset = dataset[\"train\"]\n",
    "test_dataset = dataset[\"test\"]"
   ]
  },
  {
   "cell_type": "code",
   "execution_count": 2,
   "id": "b0c46c4b-0194-4127-a218-e24ec54a3149",
   "metadata": {},
   "outputs": [],
   "source": [
    "import torch\n",
    "import torch.nn as nn\n",
    "from torch.utils.data import default_collate, RandomSampler, SequentialSampler\n",
    "\n",
    "torch.manual_seed(42)\n",
    "\n",
    "#defining samplers\n",
    "# Since datasets is a Map-style dataset, we can setup a sampler to shuffle the data\n",
    "train_sampler = RandomSampler(train_dataset)\n",
    "test_sampler = RandomSampler(test_dataset)"
   ]
  },
  {
   "cell_type": "code",
   "execution_count": 3,
   "id": "64842338-b5b9-4c43-9e38-b1204ae0a69a",
   "metadata": {},
   "outputs": [
    {
     "data": {
      "text/plain": [
       "(np.float64(-0.5), np.float64(27.5), np.float64(27.5), np.float64(-0.5))"
      ]
     },
     "execution_count": 3,
     "metadata": {},
     "output_type": "execute_result"
    },
    {
     "data": {
      "image/png": "[encoded data removed]",
      "text/plain": [
       "<Figure size 640x480 with 1 Axes>"
      ]
     },
     "metadata": {},
     "output_type": "display_data"
    }
   ],
   "source": [
    "#Let's display one image and the corresponding label\n",
    "import matplotlib.pyplot as plt\n",
    "\n",
    "random_idx = torch.randint(0, len(train_dataset), size=[1]).item()\n",
    "img, label = train_dataset[\"image\"][random_idx], train_dataset[\"label\"][random_idx]\n",
    "plt.imshow(img.squeeze(), cmap=\"gray\")\n",
    "plt.title(f\"Label = {label.item()}\")\n",
    "plt.axis(\"Off\")"
   ]
  },
  {
   "cell_type": "code",
   "execution_count": 4,
   "id": "6f643c48-c6fb-4e8a-9461-fdf96b45b04b",
   "metadata": {},
   "outputs": [],
   "source": [
    "# Now we can set up some torchdata.nodes to create our pre-proc pipeline\n",
    "from torchdata.nodes import MapStyleWrapper, ParallelMapper, Batcher, PinMemory, Loader\n",
    "\n",
    "# All torchdata.nodes.BaseNode implementations are Iterators.\n",
    "# MapStyleWrapper creates an Iterator that combines sampler and train_dataset to create an iterator.\n",
    "#\n",
    "# Under the hood, MapStyleWrapper just does:\n",
    "# > node = IterableWrapper(sampler)\n",
    "# > node = Mapper(node, map_fn=train_dataset.__getitem__)  # You can parallelize this with ParallelMapper\n",
    "\n",
    "node = MapStyleWrapper(map_dataset=train_dataset, sampler=train_sampler)\n",
    "\n",
    "# Now we want to transform the raw inputs. We can just use another Mapper with\n",
    "# a custom map_fn to perform this. Using ParallelMapper allows us to use multiple\n",
    "# threads (or processes) to parallelize this work and have it run in the background\n",
    "#We need a mapper function to convert a dtype and also normalize\n",
    "def map_fn(item):\n",
    "    image = item[\"image\"].to(torch.float32)/255\n",
    "    label = item[\"label\"]\n",
    "\n",
    "    return {\"image\":image, \"label\":label}\n",
    "node = ParallelMapper(node, map_fn=map_fn, num_workers=2) # output items are Dict[str, tensor]\n",
    "\n",
    "\n",
    "# Hyperparameters\n",
    "batch_size = 2 #batch size is kept low so that we can easily see the bacthes when we print them in the later cells\n",
    "\n",
    "# Next we batch the inputs, and then apply a collate_fn with another Mapper\n",
    "# to stack the tensors between. We use torch.utils.data.default_collate for this\n",
    "node = Batcher(node, batch_size=batch_size) # output items are List[Dict[str, tensor]]\n",
    "node = ParallelMapper(node, map_fn=default_collate, num_workers=2) # outputs are Dict[str, tensor]\n",
    "\n",
    "# we can optionally apply pin_memory to the batches\n",
    "if torch.cuda.is_available():\n",
    "    node = PinMemory(node)\n",
    "\n",
    "# Since nodes are iterators, they need to be manually .reset() between epochs.\n",
    "# We can wrap the root node in Loader to convert it to a more conventional Iterable.\n",
    "train_loader = Loader(node)\n",
    "\n",
    "#Similar process can be followed to ger test and validation loaders"
   ]
  },
  {
   "cell_type": "code",
   "execution_count": 5,
   "id": "c97a79ba-e6b3-4ac7-a4c5-edc8f9c58ff4",
   "metadata": {},
   "outputs": [
    {
     "name": "stdout",
     "output_type": "stream",
     "text": [
      "{'image': tensor([[[[0., 0., 0.,  ..., 0., 0., 0.],\n",
      "          [0., 0., 0.,  ..., 0., 0., 0.],\n",
      "          [0., 0., 0.,  ..., 0., 0., 0.],\n",
      "          ...,\n",
      "          [0., 0., 0.,  ..., 0., 0., 0.],\n",
      "          [0., 0., 0.,  ..., 0., 0., 0.],\n",
      "          [0., 0., 0.,  ..., 0., 0., 0.]]],\n",
      "\n",
      "\n",
      "        [[[0., 0., 0.,  ..., 0., 0., 0.],\n",
      "          [0., 0., 0.,  ..., 0., 0., 0.],\n",
      "          [0., 0., 0.,  ..., 0., 0., 0.],\n",
      "          ...,\n",
      "          [0., 0., 0.,  ..., 0., 0., 0.],\n",
      "          [0., 0., 0.,  ..., 0., 0., 0.],\n",
      "          [0., 0., 0.,  ..., 0., 0., 0.]]]]), 'label': tensor([3, 4])}\n",
      "There are 2 samples in this batch\n"
     ]
    },
    {
     "data": {
      "image/png": "[encoded data removed]",
      "text/plain": [
       "<Figure size 800x600 with 2 Axes>"
      ]
     },
     "metadata": {},
     "output_type": "display_data"
    }
   ],
   "source": [
    "# Once we have the train_loader, we can get batches from it over multiple epochs, to train the ML model\n",
    "# Let us look at one batch \n",
    "fig, axs = plt.subplots(2, figsize=(8, 6))\n",
    "\n",
    "for batch in train_loader:\n",
    "    print(batch)\n",
    "    print(f\"There are {len(batch)} samples in this batch\")\n",
    "\n",
    "    # Since we used default_collate, each batch is a dictionary, with two keys: \"image\" and \"label\"\n",
    "    # The value of key \"image\" is a stacked tensor of images in the batch\n",
    "    # Similarly, the value of key \"label\" is a stacked tensor of labels in the batch\n",
    "    images = batch[\"image\"]\n",
    "    labels = batch[\"label\"]\n",
    "\n",
    "    #let's also display the two item\n",
    "    for i in range(len(images)):\n",
    "        axs[i].imshow(images[i].squeeze(), cmap='gray')\n",
    "        axs[i].set_title(f\"Label: {labels[i]}\")   \n",
    "        axs[i].set_axis_off()\n",
    "\n",
    "    break"
   ]
  }
 ],
 "metadata": {
  "kernelspec": {
   "display_name": "Python 3 (ipykernel)",
   "language": "python",
   "name": "python3"
  },
  "language_info": {
   "codemirror_mode": {
    "name": "ipython",
    "version": 3
   },
   "file_extension": ".py",
   "mimetype": "text/x-python",
   "name": "python",
   "nbconvert_exporter": "python",
   "pygments_lexer": "ipython3",
   "version": "3.12.6"
  }
 },
 "nbformat": 4,
 "nbformat_minor": 5
}
