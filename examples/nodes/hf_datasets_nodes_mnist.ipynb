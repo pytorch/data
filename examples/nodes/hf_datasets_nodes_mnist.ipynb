{
 "cells": [
  {
   "cell_type": "code",
   "execution_count": 1,
   "id": "6f7916f1-0998-415a-b1c3-d2a4a18fcc59",
   "metadata": {},
   "outputs": [],
   "source": [
    "from datasets import load_dataset\n",
    "\n",
    "import torch\n",
    "import torch.nn as nn\n",
    "import torch.nn.functional as F\n",
    "from torch.utils.data import default_collate \n",
    "\n",
    "from torchdata.nodes.adapters import IterableWrapper\n",
    "from torchdata.nodes.batch import Batcher\n",
    "from torchdata.nodes.map import Mapper\n",
    "from torchdata.nodes.loader import Loader\n",
    "\n",
    "import matplotlib.pyplot as plt"
   ]
  },
  {
   "cell_type": "markdown",
   "id": "a8852a7d-4bf5-4c58-8b10-0ba673a8e55e",
   "metadata": {},
   "source": [
    "### Loading the MNIST dataset"
   ]
  },
  {
   "cell_type": "code",
   "execution_count": 2,
   "id": "94b25d2f-c366-4d1d-870c-7c886d663934",
   "metadata": {},
   "outputs": [],
   "source": [
    "dataset = load_dataset(\"ylecun/mnist\") \n",
    "dataset = dataset.with_format(\"torch\")"
   ]
  },
  {
   "cell_type": "markdown",
   "id": "ffaef758-2093-4bfb-a072-97b56de7065c",
   "metadata": {},
   "source": [
    "##### Splitting into train and test"
   ]
  },
  {
   "cell_type": "code",
   "execution_count": 3,
   "id": "121bc819-3010-4fdf-8dca-168bcc3f1041",
   "metadata": {},
   "outputs": [],
   "source": [
    "train_dataset = dataset[\"train\"].shuffle(42)\n",
    "\n",
    "test_dataset = dataset[\"test\"].shuffle(42)"
   ]
  },
  {
   "cell_type": "markdown",
   "id": "3f8c9e8d-b095-4767-a34a-45c807f3b75e",
   "metadata": {},
   "source": [
    "##### Let's display one image"
   ]
  },
  {
   "cell_type": "code",
   "execution_count": 4,
   "id": "5b7b0e89-b9e0-480c-890d-6344239d2f62",
   "metadata": {},
   "outputs": [
    {
     "name": "stdout",
     "output_type": "stream",
     "text": [
      "Image size: torch.Size([1, 28, 28])\n",
      "Label: 8, label size: torch.Size([])\n"
     ]
    },
    {
     "data": {
      "image/png": "[encoded data removed]",
      "text/plain": [
       "<Figure size 640x480 with 1 Axes>"
      ]
     },
     "metadata": {},
     "output_type": "display_data"
    }
   ],
   "source": [
    "\n",
    "torch.manual_seed(42)\n",
    "random_idx = torch.randint(0, len(train_dataset), size=[1]).item()\n",
    "img, label = train_dataset[\"image\"][random_idx], train_dataset[\"label\"][random_idx]\n",
    "plt.imshow(img.squeeze(), cmap=\"gray\")\n",
    "plt.title(label)\n",
    "plt.axis(\"Off\");\n",
    "print(f\"Image size: {img.shape}\")\n",
    "print(f\"Label: {label}, label size: {label.shape}\")"
   ]
  },
  {
   "cell_type": "code",
   "execution_count": 5,
   "id": "fabc780e-5b09-4b55-aae5-3df1c6346c36",
   "metadata": {},
   "outputs": [
    {
     "name": "stdout",
     "output_type": "stream",
     "text": [
      "length of Train Datasets:  60000\n",
      "length of Validation Datasets:  10000\n"
     ]
    }
   ],
   "source": [
    "print(\"length of Train Datasets: \", len(train_dataset))\n",
    "print(\"length of Validation Datasets: \", len(test_dataset))"
   ]
  },
  {
   "cell_type": "code",
   "execution_count": 6,
   "id": "bfb02f7c-ecf5-4216-8c9c-7423e48d1961",
   "metadata": {},
   "outputs": [
    {
     "data": {
      "text/plain": [
       "tensor([[[[0, 0, 0,  ..., 0, 0, 0],\n",
       "          [0, 0, 0,  ..., 0, 0, 0],\n",
       "          [0, 0, 0,  ..., 0, 0, 0],\n",
       "          ...,\n",
       "          [0, 0, 0,  ..., 0, 0, 0],\n",
       "          [0, 0, 0,  ..., 0, 0, 0],\n",
       "          [0, 0, 0,  ..., 0, 0, 0]]],\n",
       "\n",
       "\n",
       "        [[[0, 0, 0,  ..., 0, 0, 0],\n",
       "          [0, 0, 0,  ..., 0, 0, 0],\n",
       "          [0, 0, 0,  ..., 0, 0, 0],\n",
       "          ...,\n",
       "          [0, 0, 0,  ..., 0, 0, 0],\n",
       "          [0, 0, 0,  ..., 0, 0, 0],\n",
       "          [0, 0, 0,  ..., 0, 0, 0]]],\n",
       "\n",
       "\n",
       "        [[[0, 0, 0,  ..., 0, 0, 0],\n",
       "          [0, 0, 0,  ..., 0, 0, 0],\n",
       "          [0, 0, 0,  ..., 0, 0, 0],\n",
       "          ...,\n",
       "          [0, 0, 0,  ..., 0, 0, 0],\n",
       "          [0, 0, 0,  ..., 0, 0, 0],\n",
       "          [0, 0, 0,  ..., 0, 0, 0]]],\n",
       "\n",
       "\n",
       "        [[[0, 0, 0,  ..., 0, 0, 0],\n",
       "          [0, 0, 0,  ..., 0, 0, 0],\n",
       "          [0, 0, 0,  ..., 0, 0, 0],\n",
       "          ...,\n",
       "          [0, 0, 0,  ..., 0, 0, 0],\n",
       "          [0, 0, 0,  ..., 0, 0, 0],\n",
       "          [0, 0, 0,  ..., 0, 0, 0]]]], dtype=torch.uint8)"
      ]
     },
     "execution_count": 6,
     "metadata": {},
     "output_type": "execute_result"
    }
   ],
   "source": [
    "train_dataset[\"image\"][:4]"
   ]
  },
  {
   "cell_type": "markdown",
   "id": "3141cf1f-d961-4151-af07-be3f2b885d5d",
   "metadata": {},
   "source": [
    "### Defining some hyperparameters"
   ]
  },
  {
   "cell_type": "code",
   "execution_count": 7,
   "id": "70b71095-58dc-4c26-9b35-c77a904ee54a",
   "metadata": {},
   "outputs": [],
   "source": [
    "\n",
    "torch.manual_seed(0)\n",
    "num_classes = len(torch.unique(train_dataset[\"label\"]))\n",
    "\n",
    "# Hyperparameters\n",
    "batch_size = 128\n",
    "num_epochs = 10\n",
    "learning_rate = 0.001\n",
    "\n"
   ]
  },
  {
   "cell_type": "markdown",
   "id": "26c803a7-a007-44aa-99c3-54d2102c85b5",
   "metadata": {},
   "source": [
    "### Now we will use the HF Dataset and create a Batcher object, that will pass us the batches while training and testing"
   ]
  },
  {
   "cell_type": "code",
   "execution_count": 8,
   "id": "ad518309-bf46-4384-8d14-03f79ed3059e",
   "metadata": {},
   "outputs": [],
   "source": [
    "train_node = IterableWrapper(train_dataset)\n",
    "test_node = IterableWrapper(test_dataset)\n",
    "\n",
    "\n",
    "#We need a mapper function to convert a dtype and also normalize\n",
    "def map_fn(item):\n",
    "    image = item[\"image\"].to(torch.float32)/255\n",
    "    label = item[\"label\"]\n",
    "\n",
    "    return {\"image\":image, \"label\":label}\n",
    "    \n",
    "train_mapper = Mapper(train_node, map_fn)\n",
    "test_mapper = Mapper(test_node, map_fn)\n",
    "\n",
    "# We also use the Loader class so that we do not have to manually reset the batcher \n",
    "# after every epoch\n",
    "train_batcher = Loader(Batcher(train_mapper, batch_size, drop_last=True))\n",
    "test_batcher = Loader(Batcher(test_mapper, batch_size, drop_last=True))\n",
    "\n"
   ]
  },
  {
   "cell_type": "markdown",
   "id": "e6143e41-40ce-4a2f-b9f9-cee3a81150a3",
   "metadata": {},
   "source": [
    "### Defining a simple CNN\n",
    "###### The NN is just for demonstration. More efficient and accurate archs might exist."
   ]
  },
  {
   "cell_type": "code",
   "execution_count": 9,
   "id": "aae1d02f-8eb5-4c5c-879c-dcd362ad7344",
   "metadata": {},
   "outputs": [],
   "source": [
    "class Net(nn.Module):\n",
    "    def __init__(self):\n",
    "        super(Net, self).__init__()\n",
    "        self.conv_block1 = nn.Sequential(\n",
    "            nn.Conv2d(1, 10, kernel_size=5),\n",
    "            nn.ReLU(),\n",
    "            nn.MaxPool2d(kernel_size=2)\n",
    "        )\n",
    "        self.conv_block2 = nn.Sequential(\n",
    "            nn.Conv2d(10, 20, kernel_size=5),\n",
    "            nn.ReLU(),\n",
    "            nn.MaxPool2d(kernel_size=2)\n",
    "        )\n",
    "        self.fc_block = nn.Sequential(\n",
    "            nn.Flatten(),\n",
    "            nn.Linear(320, 50),\n",
    "            nn.ReLU(),\n",
    "            nn.Dropout(p=0.2),\n",
    "            nn.Linear(50, 10)\n",
    "        )\n",
    "\n",
    "    def forward(self, x):\n",
    "        out = self.conv_block1(x)\n",
    "        out = self.conv_block2(out)\n",
    "        out = out.view(-1, 320)\n",
    "        out = self.fc_block(out)\n",
    "        return out"
   ]
  },
  {
   "cell_type": "code",
   "execution_count": 10,
   "id": "d7a9c561-9f27-4651-8577-005d7ad74725",
   "metadata": {},
   "outputs": [],
   "source": [
    "# Initialize the neural network and loss function\n",
    "model = Net().to(\"cpu\")\n",
    "loss_fn = nn.CrossEntropyLoss()\n",
    "optimizer = torch.optim.Adam(model.parameters(), lr=learning_rate)"
   ]
  },
  {
   "cell_type": "code",
   "execution_count": 11,
   "id": "fdba88c6-2c0c-4fd6-af66-754183d2940c",
   "metadata": {},
   "outputs": [
    {
     "data": {
      "text/plain": [
       "Net(\n",
       "  (conv_block1): Sequential(\n",
       "    (0): Conv2d(1, 10, kernel_size=(5, 5), stride=(1, 1))\n",
       "    (1): ReLU()\n",
       "    (2): MaxPool2d(kernel_size=2, stride=2, padding=0, dilation=1, ceil_mode=False)\n",
       "  )\n",
       "  (conv_block2): Sequential(\n",
       "    (0): Conv2d(10, 20, kernel_size=(5, 5), stride=(1, 1))\n",
       "    (1): ReLU()\n",
       "    (2): MaxPool2d(kernel_size=2, stride=2, padding=0, dilation=1, ceil_mode=False)\n",
       "  )\n",
       "  (fc_block): Sequential(\n",
       "    (0): Flatten(start_dim=1, end_dim=-1)\n",
       "    (1): Linear(in_features=320, out_features=50, bias=True)\n",
       "    (2): ReLU()\n",
       "    (3): Dropout(p=0.2, inplace=False)\n",
       "    (4): Linear(in_features=50, out_features=10, bias=True)\n",
       "  )\n",
       ")"
      ]
     },
     "execution_count": 11,
     "metadata": {},
     "output_type": "execute_result"
    }
   ],
   "source": [
    "model"
   ]
  },
  {
   "cell_type": "markdown",
   "id": "8679e77c-b14d-49dc-8f08-580a417952d3",
   "metadata": {},
   "source": [
    "### Train the model"
   ]
  },
  {
   "cell_type": "code",
   "execution_count": 12,
   "id": "795a6833-4714-46eb-bb3f-0a6d36ab1c81",
   "metadata": {},
   "outputs": [
    {
     "name": "stdout",
     "output_type": "stream",
     "text": [
      "epoch = 0\n",
      "Epoch [1/10], Step [50], Loss: 0.8993\n",
      "Epoch [1/10], Step [100], Loss: 0.4885\n",
      "Epoch [1/10], Step [150], Loss: 0.2963\n",
      "Epoch [1/10], Step [200], Loss: 0.3878\n",
      "Epoch [1/10], Step [250], Loss: 0.1821\n",
      "Epoch [1/10], Step [300], Loss: 0.2910\n",
      "Epoch [1/10], Step [350], Loss: 0.1656\n",
      "Epoch [1/10], Step [400], Loss: 0.0495\n",
      "Epoch [1/10], Step [450], Loss: 0.1430\n",
      "Test Accuracy: 95.77323717948718 %\n",
      "epoch = 1\n",
      "Epoch [2/10], Step [50], Loss: 0.1356\n",
      "Epoch [2/10], Step [100], Loss: 0.1093\n",
      "Epoch [2/10], Step [150], Loss: 0.0818\n",
      "Epoch [2/10], Step [200], Loss: 0.2703\n",
      "Epoch [2/10], Step [250], Loss: 0.0982\n",
      "Epoch [2/10], Step [300], Loss: 0.1945\n",
      "Epoch [2/10], Step [350], Loss: 0.0585\n",
      "Epoch [2/10], Step [400], Loss: 0.0276\n",
      "Epoch [2/10], Step [450], Loss: 0.0770\n",
      "Test Accuracy: 96.78485576923077 %\n",
      "epoch = 2\n",
      "Epoch [3/10], Step [50], Loss: 0.1354\n",
      "Epoch [3/10], Step [100], Loss: 0.0749\n",
      "Epoch [3/10], Step [150], Loss: 0.0511\n",
      "Epoch [3/10], Step [200], Loss: 0.1692\n",
      "Epoch [3/10], Step [250], Loss: 0.0645\n",
      "Epoch [3/10], Step [300], Loss: 0.1401\n",
      "Epoch [3/10], Step [350], Loss: 0.0671\n",
      "Epoch [3/10], Step [400], Loss: 0.0290\n",
      "Epoch [3/10], Step [450], Loss: 0.0873\n",
      "Test Accuracy: 97.25560897435898 %\n",
      "epoch = 3\n",
      "Epoch [4/10], Step [50], Loss: 0.0916\n",
      "Epoch [4/10], Step [100], Loss: 0.0936\n",
      "Epoch [4/10], Step [150], Loss: 0.0525\n",
      "Epoch [4/10], Step [200], Loss: 0.2119\n",
      "Epoch [4/10], Step [250], Loss: 0.0916\n",
      "Epoch [4/10], Step [300], Loss: 0.1168\n",
      "Epoch [4/10], Step [350], Loss: 0.0932\n",
      "Epoch [4/10], Step [400], Loss: 0.0156\n",
      "Epoch [4/10], Step [450], Loss: 0.0570\n",
      "Test Accuracy: 97.83653846153847 %\n",
      "epoch = 4\n",
      "Epoch [5/10], Step [50], Loss: 0.1376\n",
      "Epoch [5/10], Step [100], Loss: 0.0695\n",
      "Epoch [5/10], Step [150], Loss: 0.0390\n",
      "Epoch [5/10], Step [200], Loss: 0.0831\n",
      "Epoch [5/10], Step [250], Loss: 0.0889\n",
      "Epoch [5/10], Step [300], Loss: 0.0736\n",
      "Epoch [5/10], Step [350], Loss: 0.0457\n",
      "Epoch [5/10], Step [400], Loss: 0.0256\n",
      "Epoch [5/10], Step [450], Loss: 0.0424\n",
      "Test Accuracy: 98.22716346153847 %\n",
      "epoch = 5\n",
      "Epoch [6/10], Step [50], Loss: 0.0367\n",
      "Epoch [6/10], Step [100], Loss: 0.0447\n",
      "Epoch [6/10], Step [150], Loss: 0.0711\n",
      "Epoch [6/10], Step [200], Loss: 0.1237\n",
      "Epoch [6/10], Step [250], Loss: 0.0801\n",
      "Epoch [6/10], Step [300], Loss: 0.1152\n",
      "Epoch [6/10], Step [350], Loss: 0.0403\n",
      "Epoch [6/10], Step [400], Loss: 0.0264\n",
      "Epoch [6/10], Step [450], Loss: 0.0646\n",
      "Test Accuracy: 98.38741987179488 %\n",
      "epoch = 6\n",
      "Epoch [7/10], Step [50], Loss: 0.0290\n",
      "Epoch [7/10], Step [100], Loss: 0.0785\n",
      "Epoch [7/10], Step [150], Loss: 0.0220\n",
      "Epoch [7/10], Step [200], Loss: 0.1043\n",
      "Epoch [7/10], Step [250], Loss: 0.0383\n",
      "Epoch [7/10], Step [300], Loss: 0.0805\n",
      "Epoch [7/10], Step [350], Loss: 0.0554\n",
      "Epoch [7/10], Step [400], Loss: 0.0204\n",
      "Epoch [7/10], Step [450], Loss: 0.0720\n",
      "Test Accuracy: 98.40745192307692 %\n",
      "epoch = 7\n",
      "Epoch [8/10], Step [50], Loss: 0.1119\n",
      "Epoch [8/10], Step [100], Loss: 0.0587\n",
      "Epoch [8/10], Step [150], Loss: 0.0192\n",
      "Epoch [8/10], Step [200], Loss: 0.1210\n",
      "Epoch [8/10], Step [250], Loss: 0.0499\n",
      "Epoch [8/10], Step [300], Loss: 0.0519\n",
      "Epoch [8/10], Step [350], Loss: 0.0729\n",
      "Epoch [8/10], Step [400], Loss: 0.0076\n",
      "Epoch [8/10], Step [450], Loss: 0.0257\n",
      "Test Accuracy: 98.64783653846153 %\n",
      "epoch = 8\n",
      "Epoch [9/10], Step [50], Loss: 0.0454\n",
      "Epoch [9/10], Step [100], Loss: 0.0539\n",
      "Epoch [9/10], Step [150], Loss: 0.0370\n",
      "Epoch [9/10], Step [200], Loss: 0.0891\n",
      "Epoch [9/10], Step [250], Loss: 0.0379\n",
      "Epoch [9/10], Step [300], Loss: 0.0422\n",
      "Epoch [9/10], Step [350], Loss: 0.0307\n",
      "Epoch [9/10], Step [400], Loss: 0.0123\n",
      "Epoch [9/10], Step [450], Loss: 0.0563\n",
      "Test Accuracy: 98.73798076923077 %\n",
      "epoch = 9\n",
      "Epoch [10/10], Step [50], Loss: 0.0204\n",
      "Epoch [10/10], Step [100], Loss: 0.0262\n",
      "Epoch [10/10], Step [150], Loss: 0.0379\n",
      "Epoch [10/10], Step [200], Loss: 0.0599\n",
      "Epoch [10/10], Step [250], Loss: 0.0540\n",
      "Epoch [10/10], Step [300], Loss: 0.0272\n",
      "Epoch [10/10], Step [350], Loss: 0.0426\n",
      "Epoch [10/10], Step [400], Loss: 0.0447\n",
      "Epoch [10/10], Step [450], Loss: 0.0605\n",
      "Test Accuracy: 98.54767628205128 %\n"
     ]
    }
   ],
   "source": [
    "\n",
    "loss_list = []\n",
    "accuracy_list = []\n",
    "for epoch in range(num_epochs):\n",
    "    print(f\"epoch = {epoch}\")\n",
    "    num_loops = 0\n",
    "    total_loss = 0\n",
    "    for batch in train_batcher:\n",
    "        batch = default_collate(batch)\n",
    "        images = batch[\"image\"]\n",
    "        labels = batch[\"label\"]\n",
    "        outputs = model(images)\n",
    "        loss = loss_fn(outputs, labels)\n",
    "        # Backward and optimize\n",
    "        optimizer.zero_grad()\n",
    "        loss.backward()\n",
    "        optimizer.step()\n",
    "        if (num_loops+1) % 50 == 0:\n",
    "            print(f'Epoch [{epoch+1}/{num_epochs}], Step [{num_loops+1}], Loss: {loss.item():.4f}')\n",
    "        total_loss+=loss.item()\n",
    "        num_loops+=1\n",
    "    total_loss /=num_loops\n",
    "    loss_list.append(total_loss)\n",
    "    \n",
    "    # Test the model\n",
    "    with torch.no_grad():\n",
    "        n_correct = 0\n",
    "        n_samples = 0\n",
    "        for batch in test_batcher:\n",
    "            batch = default_collate(batch)\n",
    "            images = batch[\"image\"]\n",
    "            labels = batch[\"label\"]\n",
    "            outputs = model(images)\n",
    "            _, predicted = torch.max(outputs.data, 1)\n",
    "            n_samples += labels.size(0)\n",
    "            n_correct += (predicted == labels).sum().item()\n",
    "            \n",
    "            \n",
    "        acc = 100.0 * n_correct / n_samples\n",
    "        accuracy_list.append(acc)\n",
    "        print(f'Test Accuracy: {acc} %')"
   ]
  },
  {
   "cell_type": "code",
   "execution_count": 13,
   "id": "5c596bb9-19c5-42d1-b5fa-8bebc4b3b452",
   "metadata": {},
   "outputs": [
    {
     "data": {
      "image/png": "[encoded data removed]",
      "text/plain": [
       "<Figure size 640x480 with 1 Axes>"
      ]
     },
     "metadata": {},
     "output_type": "display_data"
    }
   ],
   "source": [
    "\n",
    "torch.manual_seed(42)\n",
    "random_idx = torch.randint(0, len(images), size=[1]).item()\n",
    "img, label , prediction= images[random_idx], labels[random_idx], predicted[random_idx]\n",
    "plt.imshow(img.squeeze(), cmap=\"gray\")\n",
    "plt.title(f\"Label = {label}, Prediction = {prediction}\")\n",
    "plt.axis(\"Off\");"
   ]
  },
  {
   "cell_type": "code",
   "execution_count": 14,
   "id": "b3231144-4de0-47f7-8e80-a4340ae5d030",
   "metadata": {},
   "outputs": [
    {
     "data": {
      "text/plain": [
       "<matplotlib.legend.Legend at 0x1366f69c0>"
      ]
     },
     "execution_count": 14,
     "metadata": {},
     "output_type": "execute_result"
    },
    {
     "data": {
      "image/png": "[encoded data removed]",
      "text/plain": [
       "<Figure size 640x480 with 1 Axes>"
      ]
     },
     "metadata": {},
     "output_type": "display_data"
    }
   ],
   "source": [
    "plt.plot(loss_list, label='Loss')\n",
    "\n",
    "\n",
    "plt.title('Loss Over Epochs')\n",
    "plt.xlabel('Epochs')\n",
    "plt.ylabel('Loss')\n",
    "# Add legend\n",
    "plt.legend()"
   ]
  },
  {
   "cell_type": "code",
   "execution_count": 15,
   "id": "d3db4f2c-d7c0-4058-a750-c9b4e21ce4ad",
   "metadata": {},
   "outputs": [
    {
     "data": {
      "text/plain": [
       "<matplotlib.legend.Legend at 0x1366fe2a0>"
      ]
     },
     "execution_count": 15,
     "metadata": {},
     "output_type": "execute_result"
    },
    {
     "data": {
      "image/png": "[encoded data removed]",
      "text/plain": [
       "<Figure size 640x480 with 1 Axes>"
      ]
     },
     "metadata": {},
     "output_type": "display_data"
    }
   ],
   "source": [
    "plt.plot(accuracy_list, label='Accuracy')\n",
    "plt.title('Accuracy Over Epochs')\n",
    "plt.xlabel('Epochs')\n",
    "plt.ylabel('Loss')\n",
    "# Add legend\n",
    "plt.legend()"
   ]
  },
  {
   "cell_type": "code",
   "execution_count": null,
   "id": "7eb733a7-c5d2-4134-85e5-4197b214ec75",
   "metadata": {},
   "outputs": [],
   "source": []
  }
 ],
 "metadata": {
  "kernelspec": {
   "display_name": "Python 3 (ipykernel)",
   "language": "python",
   "name": "python3"
  },
  "language_info": {
   "codemirror_mode": {
    "name": "ipython",
    "version": 3
   },
   "file_extension": ".py",
   "mimetype": "text/x-python",
   "name": "python",
   "nbconvert_exporter": "python",
   "pygments_lexer": "ipython3",
   "version": "3.12.6"
  }
 },
 "nbformat": 4,
 "nbformat_minor": 5
}
