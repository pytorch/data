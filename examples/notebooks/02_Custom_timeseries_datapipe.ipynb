{
 "cells": [
  {
   "cell_type": "markdown",
   "id": "4bae0293-5c25-4b48-9a12-086a8d239f62",
   "metadata": {
    "tags": []
   },
   "source": [
    "# A custom timeseries `DataPipe`\n",
    "\n",
    "author: Thomas Capelle (tcapelle@wandb.com)\n",
    "\n",
    "We will make a custom timeseries processing `DataPipe` to slice with a rolling window over data. Let's grab a [Kaggle dataset](https://www.kaggle.com/tarunpaparaju/apple-aapl-historical-stock-data) containing stock prices for the $AAPL (Apple Inc) company for the last 10 years."
   ]
  },
  {
   "cell_type": "code",
   "execution_count": 1,
   "id": "16d65103-6299-487a-b056-c097bc36ea8e",
   "metadata": {},
   "outputs": [],
   "source": [
    "import numpy as np\n",
    "import pandas as pd\n",
    "\n",
    "from torchdata.datapipes import functional_datapipe\n",
    "import torchdata.datapipes.iter as pipes"
   ]
  },
  {
   "cell_type": "code",
   "execution_count": 2,
   "id": "dbea5035-8d5a-4535-8046-03f00031904e",
   "metadata": {},
   "outputs": [
    {
     "data": {
      "text/html": [
       "<div>\n",
       "<style scoped>\n",
       "    .dataframe tbody tr th:only-of-type {\n",
       "        vertical-align: middle;\n",
       "    }\n",
       "\n",
       "    .dataframe tbody tr th {\n",
       "        vertical-align: top;\n",
       "    }\n",
       "\n",
       "    .dataframe thead th {\n",
       "        text-align: right;\n",
       "    }\n",
       "</style>\n",
       "<table border=\"1\" class=\"dataframe\">\n",
       "  <thead>\n",
       "    <tr style=\"text-align: right;\">\n",
       "      <th></th>\n",
       "      <th>Date</th>\n",
       "      <th>Close/Last</th>\n",
       "      <th>Volume</th>\n",
       "      <th>Open</th>\n",
       "      <th>High</th>\n",
       "      <th>Low</th>\n",
       "    </tr>\n",
       "  </thead>\n",
       "  <tbody>\n",
       "    <tr>\n",
       "      <th>0</th>\n",
       "      <td>02/28/2020</td>\n",
       "      <td>$273.36</td>\n",
       "      <td>106721200</td>\n",
       "      <td>$257.26</td>\n",
       "      <td>$278.41</td>\n",
       "      <td>$256.37</td>\n",
       "    </tr>\n",
       "    <tr>\n",
       "      <th>1</th>\n",
       "      <td>02/27/2020</td>\n",
       "      <td>$273.52</td>\n",
       "      <td>80151380</td>\n",
       "      <td>$281.1</td>\n",
       "      <td>$286</td>\n",
       "      <td>$272.96</td>\n",
       "    </tr>\n",
       "    <tr>\n",
       "      <th>2</th>\n",
       "      <td>02/26/2020</td>\n",
       "      <td>$292.65</td>\n",
       "      <td>49678430</td>\n",
       "      <td>$286.53</td>\n",
       "      <td>$297.88</td>\n",
       "      <td>$286.5</td>\n",
       "    </tr>\n",
       "    <tr>\n",
       "      <th>3</th>\n",
       "      <td>02/25/2020</td>\n",
       "      <td>$288.08</td>\n",
       "      <td>57668360</td>\n",
       "      <td>$300.95</td>\n",
       "      <td>$302.53</td>\n",
       "      <td>$286.13</td>\n",
       "    </tr>\n",
       "    <tr>\n",
       "      <th>4</th>\n",
       "      <td>02/24/2020</td>\n",
       "      <td>$298.18</td>\n",
       "      <td>55548830</td>\n",
       "      <td>$297.26</td>\n",
       "      <td>$304.18</td>\n",
       "      <td>$289.23</td>\n",
       "    </tr>\n",
       "    <tr>\n",
       "      <th>5</th>\n",
       "      <td>02/21/2020</td>\n",
       "      <td>$313.05</td>\n",
       "      <td>32426420</td>\n",
       "      <td>$318.62</td>\n",
       "      <td>$320.45</td>\n",
       "      <td>$310.5</td>\n",
       "    </tr>\n",
       "    <tr>\n",
       "      <th>6</th>\n",
       "      <td>02/20/2020</td>\n",
       "      <td>$320.3</td>\n",
       "      <td>25141490</td>\n",
       "      <td>$322.63</td>\n",
       "      <td>$324.65</td>\n",
       "      <td>$318.21</td>\n",
       "    </tr>\n",
       "    <tr>\n",
       "      <th>7</th>\n",
       "      <td>02/19/2020</td>\n",
       "      <td>$323.62</td>\n",
       "      <td>23495990</td>\n",
       "      <td>$320</td>\n",
       "      <td>$324.57</td>\n",
       "      <td>$320</td>\n",
       "    </tr>\n",
       "    <tr>\n",
       "      <th>8</th>\n",
       "      <td>02/18/2020</td>\n",
       "      <td>$319</td>\n",
       "      <td>38190550</td>\n",
       "      <td>$315.36</td>\n",
       "      <td>$319.75</td>\n",
       "      <td>$314.61</td>\n",
       "    </tr>\n",
       "    <tr>\n",
       "      <th>9</th>\n",
       "      <td>02/14/2020</td>\n",
       "      <td>$324.95</td>\n",
       "      <td>20028450</td>\n",
       "      <td>$324.74</td>\n",
       "      <td>$325.98</td>\n",
       "      <td>$322.85</td>\n",
       "    </tr>\n",
       "  </tbody>\n",
       "</table>\n",
       "</div>"
      ],
      "text/plain": [
       "         Date  Close/Last     Volume      Open      High       Low\n",
       "0  02/28/2020     $273.36  106721200   $257.26   $278.41   $256.37\n",
       "1  02/27/2020     $273.52   80151380    $281.1      $286   $272.96\n",
       "2  02/26/2020     $292.65   49678430   $286.53   $297.88    $286.5\n",
       "3  02/25/2020     $288.08   57668360   $300.95   $302.53   $286.13\n",
       "4  02/24/2020     $298.18   55548830   $297.26   $304.18   $289.23\n",
       "5  02/21/2020     $313.05   32426420   $318.62   $320.45    $310.5\n",
       "6  02/20/2020      $320.3   25141490   $322.63   $324.65   $318.21\n",
       "7  02/19/2020     $323.62   23495990      $320   $324.57      $320\n",
       "8  02/18/2020        $319   38190550   $315.36   $319.75   $314.61\n",
       "9  02/14/2020     $324.95   20028450   $324.74   $325.98   $322.85"
      ]
     },
     "execution_count": 2,
     "metadata": {},
     "output_type": "execute_result"
    }
   ],
   "source": [
    "df = pd.read_csv(\"data/HistoricalQuotes.csv\")\n",
    "df.head(10)"
   ]
  },
  {
   "cell_type": "markdown",
   "id": "8e363527-4153-4c65-b664-c1a6982cc730",
   "metadata": {},
   "source": [
    "we can parse the CSV file `pipes.CSVParser`"
   ]
  },
  {
   "cell_type": "code",
   "execution_count": 3,
   "id": "1be11825-e421-4b91-8be0-b1bd6b018c3f",
   "metadata": {},
   "outputs": [],
   "source": [
    "datapipe = pipes.IterableWrapper([\"data/HistoricalQuotes.csv\"])\n",
    "\n",
    "# we will skip the header\n",
    "csv = pipes.FileOpener(datapipe, mode='rt').parse_csv(delimiter=',', skip_lines=1)"
   ]
  },
  {
   "cell_type": "markdown",
   "id": "6188df33-0d47-442b-b70d-9caf60f32444",
   "metadata": {},
   "source": [
    "every iteration returns a `row` of data"
   ]
  },
  {
   "cell_type": "code",
   "execution_count": 4,
   "id": "58cfa2f3-8d61-40b0-ac2b-f41fd9acd23c",
   "metadata": {},
   "outputs": [
    {
     "data": {
      "text/plain": [
       "['02/28/2020', ' $273.36', ' 106721200', ' $257.26', ' $278.41', ' $256.37']"
      ]
     },
     "execution_count": 4,
     "metadata": {},
     "output_type": "execute_result"
    }
   ],
   "source": [
    "next(iter(csv))"
   ]
  },
  {
   "cell_type": "markdown",
   "id": "410e4062-02ac-403a-a8cb-678bd74c29b8",
   "metadata": {},
   "source": [
    "let's create a function to convert the `Close/Last` string to a float"
   ]
  },
  {
   "cell_type": "code",
   "execution_count": 5,
   "id": "2cc6defa-b0b7-41cd-ac97-4f3d0366a13d",
   "metadata": {},
   "outputs": [],
   "source": [
    "def parse_price(dp):\n",
    "    \"select column `close` and cast to `float`\"\n",
    "    date, close, vol, open, high, low = dp\n",
    "    return float(close.strip().replace(\"$\", \"\"))"
   ]
  },
  {
   "cell_type": "markdown",
   "id": "52f526a2-df50-4ad7-9f11-051c722767aa",
   "metadata": {},
   "source": [
    "we can map the function with the `pipes.Mapper` class "
   ]
  },
  {
   "cell_type": "code",
   "execution_count": 6,
   "id": "08929d59-39f5-460c-9c83-daff6ccfb951",
   "metadata": {},
   "outputs": [],
   "source": [
    "prices = csv.map(parse_price)"
   ]
  },
  {
   "cell_type": "markdown",
   "id": "1075536a-9f84-471b-b00a-2b15d9bdcc43",
   "metadata": {},
   "source": [
    "and check that we get a float, everything looks fine 😃"
   ]
  },
  {
   "cell_type": "code",
   "execution_count": 7,
   "id": "a0bdca3a-95fc-4c6b-a17e-b2a54b8c3bbe",
   "metadata": {},
   "outputs": [
    {
     "data": {
      "text/plain": [
       "273.36"
      ]
     },
     "execution_count": 7,
     "metadata": {},
     "output_type": "execute_result"
    }
   ],
   "source": [
    "next(iter(prices))"
   ]
  },
  {
   "cell_type": "markdown",
   "id": "48764def-e74a-47ab-a2eb-853d27ebae59",
   "metadata": {},
   "source": [
    "## Custom Rolling Window\n",
    "> We want to slice multiple values at the same time. This is useful to train a forecasting model afterwards."
   ]
  },
  {
   "cell_type": "markdown",
   "id": "bb4619bc-1e8b-4c3b-8c83-952f5b1d4295",
   "metadata": {},
   "source": [
    "![](data/df_window.png)"
   ]
  },
  {
   "cell_type": "markdown",
   "id": "c43bc886-59b4-46a4-86c2-a5f44ec33cbf",
   "metadata": {},
   "source": [
    "Slicing 5 values at the same time with a step of 2"
   ]
  },
  {
   "cell_type": "code",
   "execution_count": 8,
   "id": "793189b1-41c7-4d42-bc2e-70b6aaf7cd95",
   "metadata": {},
   "outputs": [],
   "source": [
    "import itertools\n",
    "\n",
    "@functional_datapipe(\"rolling\")\n",
    "class RollingWindow(pipes.IterDataPipe):\n",
    "    def __init__(self, source_dp: pipes.IterDataPipe, window_size, step=1) -> None:\n",
    "        super().__init__()\n",
    "        self.source_dp = source_dp\n",
    "        self.window_size = window_size\n",
    "        self.step = step\n",
    "    \n",
    "    def __iter__(self):\n",
    "        it = iter(self.source_dp)\n",
    "        cur = []\n",
    "        while True:\n",
    "            try:\n",
    "                while len(cur) < self.window_size:\n",
    "                    cur.append(next(it))\n",
    "                yield np.array(cur)\n",
    "                for _ in range(self.step):\n",
    "                    if cur:\n",
    "                        cur.pop(0)\n",
    "                    else:\n",
    "                        next(it)\n",
    "            except StopIteration:\n",
    "                return"
   ]
  },
  {
   "cell_type": "code",
   "execution_count": 9,
   "id": "b4cbca0d-ee77-4cac-b8bb-7b593152455d",
   "metadata": {},
   "outputs": [
    {
     "data": {
      "text/plain": [
       "[array([273.36, 273.52, 292.65, 288.08, 298.18]),\n",
       " array([292.65, 288.08, 298.18, 313.05, 320.3 ]),\n",
       " array([298.18, 313.05, 320.3 , 323.62, 319.  ]),\n",
       " array([320.3 , 323.62, 319.  , 324.95, 324.87])]"
      ]
     },
     "execution_count": 9,
     "metadata": {},
     "output_type": "execute_result"
    }
   ],
   "source": [
    "dp = RollingWindow(prices, 5, step=2)\n",
    "it = iter(dp)\n",
    "list(itertools.islice(it, 4))"
   ]
  },
  {
   "cell_type": "markdown",
   "id": "fb13503b-b6d4-42d6-8cee-62be7a8c32ba",
   "metadata": {},
   "source": [
    "## Final Pipeline\n",
    "> Putting everything together"
   ]
  },
  {
   "cell_type": "code",
   "execution_count": 10,
   "id": "a122be0e-e890-47cf-9688-937f24277bd5",
   "metadata": {},
   "outputs": [],
   "source": [
    "datapipe = pipes.IterableWrapper([\"data/HistoricalQuotes.csv\"])\n",
    "ds  = (pipes.FileOpener(datapipe, mode='rt').parse_csv(delimiter=',', skip_lines=1)\n",
    "            .map(parse_price)\n",
    "            .rolling(window_size=5, step=1)  # this is created by the decorator @rolling\n",
    "            .batch(4)\n",
    "      )\n",
    "            "
   ]
  },
  {
   "cell_type": "code",
   "execution_count": 11,
   "id": "778b7147-e3cf-47f3-ba52-52da72b8820d",
   "metadata": {},
   "outputs": [
    {
     "data": {
      "text/plain": [
       "[array([273.36, 273.52, 292.65, 288.08, 298.18]),\n",
       " array([273.52, 292.65, 288.08, 298.18, 313.05]),\n",
       " array([292.65, 288.08, 298.18, 313.05, 320.3 ]),\n",
       " array([288.08, 298.18, 313.05, 320.3 , 323.62])]"
      ]
     },
     "execution_count": 11,
     "metadata": {},
     "output_type": "execute_result"
    }
   ],
   "source": [
    "next(iter(ds))"
   ]
  },
  {
   "cell_type": "markdown",
   "id": "f5412fde-931d-4cc5-b44f-c65b339dff9c",
   "metadata": {},
   "source": [
    "> This article was originally published in the [Weights and Biases blog](http://wandb.me/torchdata)"
   ]
  },
  {
   "cell_type": "code",
   "execution_count": null,
   "id": "88f4f4b6-0ebb-4ed9-859d-e1f1acca6405",
   "metadata": {},
   "outputs": [],
   "source": []
  }
 ],
 "metadata": {
  "kernelspec": {
   "display_name": "data",
   "language": "python",
   "name": "data"
  },
  "language_info": {
   "codemirror_mode": {
    "name": "ipython",
    "version": 3
   },
   "file_extension": ".py",
   "mimetype": "text/x-python",
   "name": "python",
   "nbconvert_exporter": "python",
   "pygments_lexer": "ipython3",
   "version": "3.9.7"
  }
 },
 "nbformat": 4,
 "nbformat_minor": 5
}
